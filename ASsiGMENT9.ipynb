{
 "cells": [
  {
   "cell_type": "code",
   "execution_count": 2,
   "id": "8cc86c5f-82cd-4d61-8c32-d57a781e0a18",
   "metadata": {},
   "outputs": [],
   "source": [
    "import numpy as np\n",
    "arr = np.array([1, 2, 3, 4, 5])\n"
   ]
  },
  {
   "cell_type": "code",
   "execution_count": 3,
   "id": "452936ed-e722-496c-a0a6-50dadcabde29",
   "metadata": {},
   "outputs": [],
   "source": [
    "arr2 = np.array([10, 20, 30, 40, 50])\n",
    "addition = arr + arr2\n",
    "subtraction = arr2 - arr\n",
    "multiplication = arr * arr2\n",
    "division = arr2 / arr\n"
   ]
  },
  {
   "cell_type": "code",
   "execution_count": 4,
   "id": "b27e779b-b718-4077-88a6-98c4174e83e2",
   "metadata": {},
   "outputs": [],
   "source": [
    "# Accessing a specific element\n",
    "element = arr[2]\n",
    "\n",
    "# Slicing the array\n",
    "slice_arr = arr[1:4]\n"
   ]
  },
  {
   "cell_type": "code",
   "execution_count": null,
   "id": "249263bb-3959-4efe-8404-3665740195aa",
   "metadata": {},
   "outputs": [],
   "source": [
    "matrix = np.array([[1, 2, 3], [4, 5, 6]])\n",
    "transposed_matrix = matrix.T\n"
   ]
  },
  {
   "cell_type": "code",
   "execution_count": 5,
   "id": "08c51cf7-fd1b-4803-ad0e-58c6ff935376",
   "metadata": {},
   "outputs": [],
   "source": [
    "reshaped_arr = np.reshape(arr, (5, 1))\n"
   ]
  },
  {
   "cell_type": "code",
   "execution_count": 6,
   "id": "3b49377b-47a0-484e-b23f-3fbb38682cbb",
   "metadata": {},
   "outputs": [],
   "source": [
    "mean_val = np.mean(arr)\n",
    "median_val = np.median(arr)\n",
    "std_dev = np.std(arr)\n",
    "variance = np.var(arr)\n"
   ]
  },
  {
   "cell_type": "code",
   "execution_count": 7,
   "id": "a04d0e72-8d28-4211-af4a-3361fd6bc80a",
   "metadata": {},
   "outputs": [],
   "source": [
    "arr3 = np.array([6, 7, 8])\n",
    "concatenated_arr = np.concatenate((arr, arr3))\n"
   ]
  },
  {
   "cell_type": "code",
   "execution_count": 8,
   "id": "dbfe9e16-cdaa-4cb7-bf52-6987cdec979d",
   "metadata": {},
   "outputs": [],
   "source": [
    "sorted_arr = np.sort(arr)  # Ascending\n",
    "sorted_arr_desc = np.sort(arr)[::-1]  # Descending\n"
   ]
  },
  {
   "cell_type": "markdown",
   "id": "216ecd35-5709-42d7-a3d7-d32be5165fc8",
   "metadata": {},
   "source": [
    "PANDAS"
   ]
  },
  {
   "cell_type": "code",
   "execution_count": null,
   "id": "02e3bcb9-45d2-4a3d-a8e5-f14564079d1c",
   "metadata": {},
   "outputs": [],
   "source": [
    "import pandas as pd\n",
    "\n",
    "# From CSV\n",
    "df_csv = pd.read_csv('file.csv')\n",
    "\n",
    "# From Excel\n",
    "df_excel = pd.read_excel('file.xlsx')\n",
    "\n",
    "# From JSON\n",
    "df_json = pd.read_json('file.json')\n"
   ]
  },
  {
   "cell_type": "code",
   "execution_count": null,
   "id": "16dddd0c-20c7-4488-ba2e-f88ba118d6de",
   "metadata": {},
   "outputs": [],
   "source": [
    "df = pd.DataFrame({'A': [1, 2, 3], 'B': [4, 5, 6]})\n",
    "shape = df.shape\n",
    "data_types = df.dtypes\n",
    "missing_values = df.isnull().sum()\n"
   ]
  },
  {
   "cell_type": "code",
   "execution_count": null,
   "id": "aecc9c64-0867-42a2-a95b-cc3c53f289fb",
   "metadata": {},
   "outputs": [],
   "source": [
    "summary = df.describe()\n"
   ]
  },
  {
   "cell_type": "code",
   "execution_count": null,
   "id": "2991ddc3-8154-453a-bf47-839adc95f4e8",
   "metadata": {},
   "outputs": [],
   "source": [
    "# Selecting a column\n",
    "col_A = df['A']\n",
    "\n",
    "# Filtering rows\n",
    "filtered_rows = df[df['A'] > 1]\n"
   ]
  }
 ],
 "metadata": {
  "kernelspec": {
   "display_name": "Python 3 (ipykernel)",
   "language": "python",
   "name": "python3"
  },
  "language_info": {
   "codemirror_mode": {
    "name": "ipython",
    "version": 3
   },
   "file_extension": ".py",
   "mimetype": "text/x-python",
   "name": "python",
   "nbconvert_exporter": "python",
   "pygments_lexer": "ipython3",
   "version": "3.12.4"
  }
 },
 "nbformat": 4,
 "nbformat_minor": 5
}
