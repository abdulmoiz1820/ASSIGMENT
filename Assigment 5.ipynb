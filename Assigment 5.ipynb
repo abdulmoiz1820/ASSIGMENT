{
 "cells": [
  {
   "cell_type": "markdown",
   "id": "871fab96-b73b-4b72-a408-010737c9d699",
   "metadata": {},
   "source": [
    "1. You need to store and manage employee records where each record includes an\n",
    "employee's ID, name, and department. (Use tuples to represent each employee record)."
   ]
  },
  {
   "cell_type": "code",
   "execution_count": 13,
   "id": "366fcf7b-7c0e-4cfc-93b2-ef31e49c5587",
   "metadata": {},
   "outputs": [
    {
     "name": "stdout",
     "output_type": "stream",
     "text": [
      "ID: 1, Name: Moiz, Department: HR\n",
      "ID: 2, Name: Rafay, Department: Engineering\n",
      "ID: 3, Name: Saim, Department: Marketing\n"
     ]
    }
   ],
   "source": [
    "# Employee's records\n",
    "employees = [\n",
    "    (1, \"Moiz\", \"HR\"),\n",
    "    (2, \"Rafay\", \"Engineering\"),\n",
    "    (3, \"Saim\", \"Marketing\")\n",
    "]\n",
    "\n",
    "# Printing all employee records\n",
    "for employee in employees:\n",
    "    print(f\"ID: {employee[0]}, Name: {employee[1]}, Department: {employee[2]}\")"
   ]
  },
  {
   "cell_type": "markdown",
   "id": "38d0010e-cb30-44ad-a36e-c38d52ff748e",
   "metadata": {},
   "source": [
    "2. You are managing an inventory system where each item has an item ID, description,\n",
    "and quantity available. (Use tuples to represent each inventory item)."
   ]
  },
  {
   "cell_type": "code",
   "execution_count": 17,
   "id": "8343373e-daeb-4e5f-a37b-b78b347216d6",
   "metadata": {},
   "outputs": [
    {
     "name": "stdout",
     "output_type": "stream",
     "text": [
      "Item ID: 101, Description: LED, Quantity Available: 10\n",
      "Item ID: 102, Description: Fridge, Quantity Available: 25\n",
      "Item ID: 103, Description: Microwave, Quantity Available: 15\n"
     ]
    }
   ],
   "source": [
    "# Inventory items\n",
    "inventory = [\n",
    "    (101, \"LED\", 10),\n",
    "    (102, \"Fridge\", 25),\n",
    "    (103, \"Microwave\", 15)\n",
    "]\n",
    "\n",
    "# Print all inventory items\n",
    "for item in inventory:\n",
    "    print(f\"Item ID: {item[0]}, Description: {item[1]}, Quantity Available: {item[2]}\")\n"
   ]
  },
  {
   "cell_type": "markdown",
   "id": "68d2294a-8526-445f-90eb-4c2eaa0b5450",
   "metadata": {},
   "source": [
    "3. You need to store the dates and times of scheduled events, like meetings or\n",
    "appointments. (Use tuples to store date and time information)."
   ]
  },
  {
   "cell_type": "code",
   "execution_count": 20,
   "id": "5b33ec31-f3c8-4728-9ac9-429b1d2867e9",
   "metadata": {},
   "outputs": [
    {
     "name": "stdout",
     "output_type": "stream",
     "text": [
      "Event Date: 2025-01-1, Event Time: 09:00 AM\n",
      "Event Date: 2025-01-2, Event Time: 11:00 AM\n",
      "Event Date: 2025-01-3, Event Time: 02:00 PM\n"
     ]
    }
   ],
   "source": [
    "# Scheduled events\n",
    "events = [\n",
    "    (\"2025-01-1\", \"09:00 AM\"),\n",
    "    (\"2025-01-2\", \"11:00 AM\"),\n",
    "    (\"2025-01-3\", \"02:00 PM\")\n",
    "]\n",
    "\n",
    "# Print all scheduled events\n",
    "for event in events:\n",
    "    print(f\"Event Date: {event[0]}, Event Time: {event[1]}\")\n"
   ]
  },
  {
   "cell_type": "markdown",
   "id": "358aa895-aa93-4883-95c6-4581235cc9a4",
   "metadata": {},
   "source": [
    "4. Store a company's employee details, organized by department. (Use dictionary in\n",
    "dictionary)."
   ]
  },
  {
   "cell_type": "code",
   "execution_count": 26,
   "id": "f67a9839-a1bd-48ad-84e7-c8823253999d",
   "metadata": {},
   "outputs": [
    {
     "name": "stdout",
     "output_type": "stream",
     "text": [
      "Department: HR\n",
      "  ID: 1, Name: Mohib\n",
      "  ID: 4, Name: Moin\n",
      "Department: Engineering\n",
      "  ID: 2, Name: Bilal\n",
      "  ID: 5, Name: Raza\n",
      "Department: Marketing\n",
      "  ID: 3, Name: Osama\n"
     ]
    }
   ],
   "source": [
    "# Employee details organized by department\n",
    "company = {\n",
    "    \"HR\": {\n",
    "        1: \"Mohib\",\n",
    "        4: \"Moin\"\n",
    "    },\n",
    "    \"Engineering\": {\n",
    "        2: \"Bilal\",\n",
    "        5: \"Raza\"\n",
    "    },\n",
    "    \"Marketing\": {\n",
    "        3: \"Osama\"\n",
    "    }\n",
    "}\n",
    "\n",
    "# Print employees in each department\n",
    "for department, employees in company.items():\n",
    "    print(f\"Department: {department}\")\n",
    "    for emp_id, name in employees.items():\n",
    "        print(f\"  ID: {emp_id}, Name: {name}\")"
   ]
  },
  {
   "cell_type": "markdown",
   "id": "215f75a4-b5d5-443e-a2ef-304594fe1f11",
   "metadata": {},
   "source": [
    "5. Keep track of student scores in various subjects and retrieve a student's scores. (Use\n",
    "dictionary in List)."
   ]
  },
  {
   "cell_type": "code",
   "execution_count": 28,
   "id": "d4eee0c1-c408-43b7-8f9a-4f912f460a3d",
   "metadata": {},
   "outputs": [
    {
     "name": "stdout",
     "output_type": "stream",
     "text": [
      "Student: Raza\n",
      "  Subject: math, Score: 90\n",
      "  Subject: science, Score: 85\n",
      "  Subject: english, Score: 88\n",
      "Student: Daim\n",
      "  Subject: math, Score: 78\n",
      "  Subject: science, Score: 82\n",
      "  Subject: english, Score: 80\n",
      "Student: Rafay\n",
      "  Subject: math, Score: 95\n",
      "  Subject: science, Score: 89\n",
      "  Subject: english, Score: 92\n"
     ]
    }
   ],
   "source": [
    "# Student scores\n",
    "students = [\n",
    "    {\"name\": \"Raza\", \"scores\": {\"math\": 90, \"science\": 85, \"english\": 88}},\n",
    "    {\"name\": \"Daim\", \"scores\": {\"math\": 78, \"science\": 82, \"english\": 80}},\n",
    "    {\"name\": \"Rafay\", \"scores\": {\"math\": 95, \"science\": 89, \"english\": 92}}\n",
    "]\n",
    "\n",
    "# Retrieve and print scores for each student\n",
    "for student in students:\n",
    "    print(f\"Student: {student['name']}\")\n",
    "    for subject, score in student[\"scores\"].items():\n",
    "        print(f\"  Subject: {subject}, Score: {score}\")\n"
   ]
  },
  {
   "cell_type": "markdown",
   "id": "15eeaa09-3181-4b99-b347-118f06bea911",
   "metadata": {},
   "source": [
    "6. Track various projects and their associated tasks, and retrieve tasks for a specific\n",
    "project. (Use List in Dictionary)."
   ]
  },
  {
   "cell_type": "code",
   "execution_count": 33,
   "id": "c038e637-ff50-4221-8b66-81bca0c9138f",
   "metadata": {},
   "outputs": [
    {
     "name": "stdout",
     "output_type": "stream",
     "text": [
      "Tasks for Project Alpha:\n",
      "Task 1\n",
      "Task 2\n",
      "Task 3\n"
     ]
    }
   ],
   "source": [
    "# Projects and their associated tasks\n",
    "projects = {\n",
    "    \"Project Alpha\": [\"Task 1\", \"Task 2\", \"Task 3\"],\n",
    "    \"Project Beta\": [\"Task A\", \"Task B\", \"Task C\"]\n",
    "}\n",
    "\n",
    "# Retrieve tasks for a specific project\n",
    "project_name = \"Project Alpha\"\n",
    "print(f\"Tasks for {project_name}:\")\n",
    "for task in projects[project_name]:\n",
    "    print(f\"{task}\")\n"
   ]
  },
  {
   "cell_type": "markdown",
   "id": "b0433778-6b9f-49ca-8e30-4b7ab201405d",
   "metadata": {},
   "source": [
    "7. Manage courses and their contents in a training program and retrieve details of a\n",
    "specific module. (dictionary in dictionary)\n"
   ]
  },
  {
   "cell_type": "code",
   "execution_count": 34,
   "id": "90d713a1-c99d-4147-abb1-5ed3ade6411b",
   "metadata": {},
   "outputs": [
    {
     "name": "stdout",
     "output_type": "stream",
     "text": [
      "Course 101 - Module 2: Basics\n"
     ]
    }
   ],
   "source": [
    "# Courses and their contents\n",
    "training_program = {\n",
    "    \"Course 101\": {\n",
    "        \"Module 1\": \"Introduction\",\n",
    "        \"Module 2\": \"Basics\",\n",
    "        \"Module 3\": \"Advanced Topics\"\n",
    "    },\n",
    "    \"Course 102\": {\n",
    "        \"Module A\": \"Getting Started\",\n",
    "        \"Module B\": \"Intermediate Concepts\",\n",
    "        \"Module C\": \"Expert Techniques\"\n",
    "    }\n",
    "}\n",
    "\n",
    "# Retrieve details of a specific module\n",
    "course_name = \"Course 101\"\n",
    "module_name = \"Module 2\"\n",
    "print(f\"{course_name} - {module_name}: {training_program[course_name][module_name]}\")\n"
   ]
  },
  {
   "cell_type": "markdown",
   "id": "640c6e69-1a8c-4d52-84e8-cd488905f6e9",
   "metadata": {},
   "source": [
    " 8.You have a list where each element is a tuple containing a product's name and its\n",
    "price. You need to find products that are below a certain price threshold. (Use unpacking\n",
    "lists of tuples)"
   ]
  },
  {
   "cell_type": "code",
   "execution_count": 41,
   "id": "5f8f6797-0f08-4cfd-87b3-899590743066",
   "metadata": {},
   "outputs": [
    {
     "name": "stdout",
     "output_type": "stream",
     "text": [
      "Products below the threshold:\n",
      "  Mouse\n",
      "  Keyboard\n"
     ]
    }
   ],
   "source": [
    "# List of products with their prices\n",
    "products = [\n",
    "    (\"Laptop\", 1200),\n",
    "    (\"Mouse\", 25),\n",
    "    (\"Keyboard\", 45),\n",
    "    (\"Monitor\", 300)\n",
    "]\n",
    "\n",
    "# Price threshold\n",
    "threshold = 100\n",
    "\n",
    "# Find and print products below the threshold\n",
    "below_threshold = [product for product, price in products if price < threshold]\n",
    "print(\"Products below the threshold:\")\n",
    "for product in below_threshold:\n",
    "    print(f\"  {product}\")\n"
   ]
  }
 ],
 "metadata": {
  "kernelspec": {
   "display_name": "Python 3 (ipykernel)",
   "language": "python",
   "name": "python3"
  },
  "language_info": {
   "codemirror_mode": {
    "name": "ipython",
    "version": 3
   },
   "file_extension": ".py",
   "mimetype": "text/x-python",
   "name": "python",
   "nbconvert_exporter": "python",
   "pygments_lexer": "ipython3",
   "version": "3.12.4"
  }
 },
 "nbformat": 4,
 "nbformat_minor": 5
}
