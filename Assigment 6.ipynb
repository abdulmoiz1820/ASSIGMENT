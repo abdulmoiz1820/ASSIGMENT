{
 "cells": [
  {
   "cell_type": "markdown",
   "id": "447a2290-d2cf-4593-890a-9b896d284884",
   "metadata": {},
   "source": [
    "1. Write a Python program to construct the following pattern, using a nested for loop.\n",
    "\n",
    "*\n",
    "* *\n",
    "* * *\n",
    "* * * *\n",
    "* * * * *\n",
    "* * * *\n",
    "* * *\n",
    "* *\n",
    "*"
   ]
  },
  {
   "cell_type": "code",
   "execution_count": null,
   "id": "dbad4325-f1b0-45ec-8620-d3fb1989836b",
   "metadata": {},
   "outputs": [],
   "source": [
    "# Pattern construction using nested for loops\n",
    "n = 5\n",
    "for i in range(1, n+1):\n",
    "    print('* ' * i)\n",
    "for i in range(n-1, 0, -1):\n",
    "    print('* ' * i)"
   ]
  },
  {
   "cell_type": "markdown",
   "id": "2ab95152-f86c-4c10-ab29-69d22a8be31b",
   "metadata": {},
   "source": [
    "2. Write a Python program to check whether an alphabet which is given by user\n",
    "in input prompt is a vowel or consonant."
   ]
  },
  {
   "cell_type": "code",
   "execution_count": 1,
   "id": "68743441-16ab-465c-a586-6c16b8c2aeec",
   "metadata": {},
   "outputs": [
    {
     "name": "stdin",
     "output_type": "stream",
     "text": [
      "Enter an alphabet:  a\n"
     ]
    },
    {
     "name": "stdout",
     "output_type": "stream",
     "text": [
      "a is a vowel.\n"
     ]
    }
   ],
   "source": [
    "# Check if an alphabet is a vowel or consonant\n",
    "alphabet = input(\"Enter an alphabet: \").lower()\n",
    "if alphabet in 'aeiou':\n",
    "    print(f\"{alphabet} is a vowel.\")\n",
    "else:\n",
    "    print(f\"{alphabet} is a consonant.\")\n"
   ]
  },
  {
   "cell_type": "markdown",
   "id": "9d52d802-8683-4f78-a3e2-feb5d3b79263",
   "metadata": {},
   "source": [
    "3. Write a Python program to create the multiplication table (from 1 to 10)\n",
    "of a number and the number will be given by user in input prompt.\n",
    "Expected Output:\n",
    "\n",
    "Input a number: 6                                                      \n",
    "6 x 1 = 6                                                              \n",
    "6 x 2 = 12                                                              \n",
    "6 x 3 = 18                                                              \n",
    "6 x 4 = 24                                                              \n",
    "6 x 5 = 30                                                              \n",
    "6 x 6 = 36                                                              \n",
    "6 x 7 = 42                                                              \n",
    "6 x 8 = 48                                                              \n",
    "6 x 9 = 54                                                              \n",
    "6 x 10 = 60"
   ]
  },
  {
   "cell_type": "code",
   "execution_count": 2,
   "id": "070a1214-c32c-4146-b5af-c11a22bb7410",
   "metadata": {},
   "outputs": [
    {
     "name": "stdin",
     "output_type": "stream",
     "text": [
      "Input a number:  6\n"
     ]
    },
    {
     "name": "stdout",
     "output_type": "stream",
     "text": [
      "6 x 1 = 6\n",
      "6 x 2 = 12\n",
      "6 x 3 = 18\n",
      "6 x 4 = 24\n",
      "6 x 5 = 30\n",
      "6 x 6 = 36\n",
      "6 x 7 = 42\n",
      "6 x 8 = 48\n",
      "6 x 9 = 54\n",
      "6 x 10 = 60\n"
     ]
    }
   ],
   "source": [
    "# Multiplication table from 1 to 10\n",
    "number = int(input(\"Input a number: \"))\n",
    "for i in range(1, 11):\n",
    "    print(f\"{number} x {i} = {number * i}\")\n"
   ]
  },
  {
   "cell_type": "markdown",
   "id": "72371dfe-481c-460a-b123-f5f8cf21e644",
   "metadata": {},
   "source": [
    "4. Write a Python program to guess a number between 1 and 9.\n",
    "Note : User is prompted to enter a guess. If the user guesses wrong then\n",
    "the prompt appears again until the guess is correct, on successful guess,\n",
    "user will get a \"Well guessed!\" message, and the program will exit.\n"
   ]
  },
  {
   "cell_type": "code",
   "execution_count": 3,
   "id": "2557650f-17a8-4365-9990-cc2d43d03690",
   "metadata": {},
   "outputs": [
    {
     "name": "stdin",
     "output_type": "stream",
     "text": [
      "Guess a number between 1 and 9:  4\n"
     ]
    },
    {
     "name": "stdout",
     "output_type": "stream",
     "text": [
      "Try again!\n"
     ]
    },
    {
     "name": "stdin",
     "output_type": "stream",
     "text": [
      "Guess a number between 1 and 9:  1\n"
     ]
    },
    {
     "name": "stdout",
     "output_type": "stream",
     "text": [
      "Try again!\n"
     ]
    },
    {
     "name": "stdin",
     "output_type": "stream",
     "text": [
      "Guess a number between 1 and 9:  4\n"
     ]
    },
    {
     "name": "stdout",
     "output_type": "stream",
     "text": [
      "Try again!\n"
     ]
    },
    {
     "name": "stdin",
     "output_type": "stream",
     "text": [
      "Guess a number between 1 and 9:  5\n"
     ]
    },
    {
     "name": "stdout",
     "output_type": "stream",
     "text": [
      "Try again!\n"
     ]
    },
    {
     "name": "stdin",
     "output_type": "stream",
     "text": [
      "Guess a number between 1 and 9:  6\n"
     ]
    },
    {
     "name": "stdout",
     "output_type": "stream",
     "text": [
      "Try again!\n"
     ]
    },
    {
     "name": "stdin",
     "output_type": "stream",
     "text": [
      "Guess a number between 1 and 9:  7\n"
     ]
    },
    {
     "name": "stdout",
     "output_type": "stream",
     "text": [
      "Try again!\n"
     ]
    },
    {
     "name": "stdin",
     "output_type": "stream",
     "text": [
      "Guess a number between 1 and 9:  8\n"
     ]
    },
    {
     "name": "stdout",
     "output_type": "stream",
     "text": [
      "Try again!\n"
     ]
    },
    {
     "name": "stdin",
     "output_type": "stream",
     "text": [
      "Guess a number between 1 and 9:  9\n"
     ]
    },
    {
     "name": "stdout",
     "output_type": "stream",
     "text": [
      "Try again!\n"
     ]
    },
    {
     "name": "stdin",
     "output_type": "stream",
     "text": [
      "Guess a number between 1 and 9:  2\n"
     ]
    },
    {
     "name": "stdout",
     "output_type": "stream",
     "text": [
      "Well guessed!\n"
     ]
    }
   ],
   "source": [
    "import random\n",
    "\n",
    "# Guess a number between 1 and 9\n",
    "number_to_guess = random.randint(1, 9)\n",
    "while True:\n",
    "    guess = int(input(\"Guess a number between 1 and 9: \"))\n",
    "    if guess == number_to_guess:\n",
    "        print(\"Well guessed!\")\n",
    "        break\n",
    "    else:\n",
    "        print(\"Try again!\")\n"
   ]
  },
  {
   "cell_type": "markdown",
   "id": "19e555df-e04f-408b-ab5c-4634d2b05dfe",
   "metadata": {},
   "source": [
    "5. Write a  Python program to filter the height and width of students, which are stored in a dictionary.\n",
    "Original Dictionary:\n",
    "{'Cierra Vega': (6.2, 70), 'Alden Cantrell': (5.9, 65), 'Kierra Gentry': (6.0, 68), 'Pierre Cox': (5.8, 66)}\n",
    "Height > 6ft and Weight> 70kg:\n",
    "{'Cierra Vega': (6.2, 70)}\n"
   ]
  },
  {
   "cell_type": "code",
   "execution_count": 5,
   "id": "ce7fb4a2-7742-4886-9973-fafa91737d07",
   "metadata": {},
   "outputs": [
    {
     "name": "stdout",
     "output_type": "stream",
     "text": [
      "Height > 6ft and Weight > 70kg:\n",
      "{}\n"
     ]
    }
   ],
   "source": [
    "# Filter students by height > 6ft and weight > 70kg\n",
    "students = {\n",
    "    'Cierra Vega': (6.2, 70),\n",
    "    'Alden Cantrell': (5.9, 65),\n",
    "    'Kierra Gentry': (6.0, 68),\n",
    "    'Pierre Cox': (5.8, 66)\n",
    "}\n",
    "\n",
    "filtered_students = {name: (height, weight) for name, (height, weight) in students.items() if height > 6 and weight > 70}\n",
    "print(\"Height > 6ft and Weight > 70kg:\")\n",
    "print(filtered_students)\n"
   ]
  },
  {
   "cell_type": "markdown",
   "id": "c0c3ecbd-3a60-4d86-9d6a-b77e0951870a",
   "metadata": {},
   "source": [
    "6. A  Python dictionary contains List as a value. Write a Python program to clear the list values in the said dictionary.\n",
    "Original Dictionary:\n",
    "{'C1': [10, 20, 30], 'C2': [20, 30, 40], 'C3': [12, 34]}\n",
    "Clear the list values in the said dictionary:\n",
    "{'C1': [], 'C2': [], 'C3': []}"
   ]
  },
  {
   "cell_type": "code",
   "execution_count": 6,
   "id": "f1dab2de-f3d8-467e-87a4-879561f4299a",
   "metadata": {},
   "outputs": [
    {
     "name": "stdout",
     "output_type": "stream",
     "text": [
      "Clear the list values in the said dictionary:\n",
      "{'C1': [], 'C2': [], 'C3': []}\n"
     ]
    }
   ],
   "source": [
    "# Clear the list values in the dictionary\n",
    "original_dict = {'C1': [10, 20, 30], 'C2': [20, 30, 40], 'C3': [12, 34]}\n",
    "cleared_dict = {key: [] for key in original_dict.keys()}\n",
    "print(\"Clear the list values in the said dictionary:\")\n",
    "print(cleared_dict)\n"
   ]
  },
  {
   "cell_type": "markdown",
   "id": "9266058d-df77-4eb6-b0f4-bda0f2a135e8",
   "metadata": {},
   "source": [
    "7.  Rivers: Make a dictionary containing three major rivers and the country\n",
    "each river runs through. One key-value pair might be 'nile': 'egypt'.\n",
    "• Use a loop to print a sentence about each river, such as The Nile runs\n",
    "through Egypt.\n",
    "• Use a loop to print the name of each river included in the dictionary.\n",
    "• Use a loop to print the name of each country included in the dictionary."
   ]
  },
  {
   "cell_type": "code",
   "execution_count": 7,
   "id": "fe83007f-af71-4cd6-b6c4-3bc3845dae42",
   "metadata": {},
   "outputs": [
    {
     "name": "stdout",
     "output_type": "stream",
     "text": [
      "The Nile runs through Egypt.\n",
      "The Amazon runs through Brazil.\n",
      "The Yangtze runs through China.\n",
      "\n",
      "Rivers:\n",
      "Nile\n",
      "Amazon\n",
      "Yangtze\n",
      "\n",
      "Countries:\n",
      "Egypt\n",
      "Brazil\n",
      "China\n"
     ]
    }
   ],
   "source": [
    "# Dictionary containing rivers and their countries\n",
    "rivers = {\n",
    "    'nile': 'egypt',\n",
    "    'amazon': 'brazil',\n",
    "    'yangtze': 'china'\n",
    "}\n",
    "\n",
    "# Printing sentences about each river\n",
    "for river, country in rivers.items():\n",
    "    print(f\"The {river.title()} runs through {country.title()}.\")\n",
    "\n",
    "# Printing the name of each river\n",
    "print(\"\\nRivers:\")\n",
    "for river in rivers.keys():\n",
    "    print(river.title())\n",
    "\n",
    "# Printing the name of each country\n",
    "print(\"\\nCountries:\")\n",
    "for country in rivers.values():\n",
    "    print(country.title())\n"
   ]
  },
  {
   "cell_type": "markdown",
   "id": "fbce403e-91a0-4dab-987c-8cb8880c11fe",
   "metadata": {},
   "source": [
    "8. Movie Tickets: A movie theater charges different ticket prices depending on\n",
    "a person’s age. If a person is under the age of 3, the ticket is free; if they are\n",
    "between 3 and 12, the ticket is $10; and if they are over age 12, the ticket is\n",
    "$15. Write a loop in which you ask users their age, and then tell them the cost\n",
    "of their movie ticket."
   ]
  },
  {
   "cell_type": "code",
   "execution_count": null,
   "id": "79faf8ba-43b9-43e9-80c9-7e8f948f29e2",
   "metadata": {},
   "outputs": [],
   "source": [
    "### Movie ticket pricing based on age\n",
    "while True:\n",
    "    age = input(\"Enter your age (or 'quit' to exit): \")\n",
    "    if age.lower() == 'quit':\n",
    "        break\n",
    "    \n",
    "    age = int(age)\n",
    "    \n",
    "    if age < 3:\n",
    "        print(\"Your ticket is free!\")\n",
    "    elif 3 <= age <= 12:\n",
    "        print(\"Your ticket costs $10.\")\n",
    "    else:\n",
    "        print(\"Your ticket costs $15.\")\n"
   ]
  },
  {
   "cell_type": "code",
   "execution_count": null,
   "id": "7b05d380-bf34-4fa9-9bdb-fa0ba7fdd3da",
   "metadata": {},
   "outputs": [],
   "source": []
  }
 ],
 "metadata": {
  "kernelspec": {
   "display_name": "Python 3 (ipykernel)",
   "language": "python",
   "name": "python3"
  },
  "language_info": {
   "codemirror_mode": {
    "name": "ipython",
    "version": 3
   },
   "file_extension": ".py",
   "mimetype": "text/x-python",
   "name": "python",
   "nbconvert_exporter": "python",
   "pygments_lexer": "ipython3",
   "version": "3.12.4"
  }
 },
 "nbformat": 4,
 "nbformat_minor": 5
}
