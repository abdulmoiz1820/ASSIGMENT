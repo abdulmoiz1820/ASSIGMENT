{
 "cells": [
  {
   "cell_type": "code",
   "execution_count": 92,
   "id": "afec257a-34f5-4d15-adcf-58864db274c3",
   "metadata": {},
   "outputs": [],
   "source": [
    "Guestlist= [\"Saad Irfan\", \"Muhammad Saim\", \"Bilal\"]"
   ]
  },
  {
   "cell_type": "code",
   "execution_count": 93,
   "id": "be32418b-281f-43bd-a2f9-6272507a0c26",
   "metadata": {},
   "outputs": [],
   "source": [
    "messages = {\n",
    "    \"Saad Irfan\": \"Dear Saad, I am writing you to come to my house for dinner.Sincerely,[Abdulmoiz]\",\n",
    "    \"Muhammad Saim\": \"Dear Saim, I am writing you to come to my house for dinner.Best regards,\\n[Abdulmoiz]\",\n",
    "    \"Bilal\": \"Dear Bilal, I am writing you to come over to my house for dinner.Sincerely,\\n[Abdulmoiz]\"\n",
    "}"
   ]
  },
  {
   "cell_type": "code",
   "execution_count": 94,
   "id": "8b967f1c-d68a-4ab0-8597-8feff4c13a7c",
   "metadata": {},
   "outputs": [
    {
     "name": "stdout",
     "output_type": "stream",
     "text": [
      "Invitation to Saad Irfan:\n",
      "\n",
      "Dear Saad, I am writing you to come to my house for dinner.Sincerely,[Abdulmoiz]\n",
      "Invitation to Muhammad Saim:\n",
      "\n",
      "Dear Saim, I am writing you to come to my house for dinner.Best regards,\n",
      "[Abdulmoiz]\n",
      "Invitation to Bilal:\n",
      "\n",
      "Dear Bilal, I am writing you to come over to my house for dinner.Sincerely,\n",
      "[Abdulmoiz]\n"
     ]
    }
   ],
   "source": [
    "for person in Guestlist:\n",
    "    print(f\"Invitation to {person}:\\n\")\n",
    "    print (messages[person])"
   ]
  },
  {
   "cell_type": "code",
   "execution_count": null,
   "id": "fdc7d1c2-3b86-4ae6-b68e-db0fc9cd616a",
   "metadata": {},
   "outputs": [],
   "source": []
  },
  {
   "cell_type": "code",
   "execution_count": 95,
   "id": "c54f9117-bd38-4313-9843-94a10c4c0f61",
   "metadata": {},
   "outputs": [
    {
     "name": "stdout",
     "output_type": "stream",
     "text": [
      "Unfortunately,Muhammad saim cannot come to the dinner\n"
     ]
    }
   ],
   "source": [
    "unavailable_guest=\"Muhammad Saim\"\n",
    "print(\"Unfortunately,Muhammad saim cannot come to the dinner\")"
   ]
  },
  {
   "cell_type": "code",
   "execution_count": null,
   "id": "72bc233e-c99e-46cb-9ca7-f9172fd2c01c",
   "metadata": {},
   "outputs": [],
   "source": []
  },
  {
   "cell_type": "code",
   "execution_count": 96,
   "id": "d1f7296a-b6b6-404f-8235-5778d9614eef",
   "metadata": {},
   "outputs": [
    {
     "name": "stdout",
     "output_type": "stream",
     "text": [
      "Invitation to Saad Irfan:\n",
      "\n",
      "Dear Saad, I am writing you to come to my house for dinner.Sincerely,[Abdulmoiz]\n",
      "Invitation to Hassan:\n",
      "\n",
      "Dear Hassan, I am writing you to come over to my house for dinner.Sincerely,\n",
      "[Abdulmoiz]\n",
      "Invitation to Bilal:\n",
      "\n",
      "Dear Bilal, I am writing you to come over to my house for dinner.Sincerely,\n",
      "[Abdulmoiz]\n"
     ]
    }
   ],
   "source": [
    "new_guest=\"Hassan\"\n",
    "Guestlist[Guestlist.index(unavailable_guest)] = new_guest\n",
    "messages[new_guest] = \"Dear Hassan, I am writing you to come over to my house for dinner.Sincerely,\\n[Abdulmoiz]\"\n",
    "for person in Guestlist:\n",
    "    print(f\"Invitation to {person}:\\n\")\n",
    "    print (messages[person])\n"
   ]
  },
  {
   "cell_type": "code",
   "execution_count": 97,
   "id": "96a8a4fe-8e22-4c8f-b4a6-97a1bfe31cda",
   "metadata": {},
   "outputs": [],
   "source": [
    "Guestlist.insert(0, \"Kaabir\")\n",
    "Guestlist.insert(2, \"Raza\")\n",
    "Guestlist.append(\"Osama\")\n",
    "\n",
    "messages[\"Kaabir\"]=\"Dear Kaabir, I am writing you to come over to my house for dinner .Sincerely,\\n [Abdulmoiz]\"\n",
    "messages[\"Raza\"]=\"Dear Raza, I am writing you to come over to my house for dinner. Sincerely,\\n [Abdulmoiz]\"\n",
    "messages[\"Osama\"]=\"Dear Osama, I am writing you to come over to my house for dinner. Sincerely,\\n [Abdulmoiz]\""
   ]
  },
  {
   "cell_type": "code",
   "execution_count": 98,
   "id": "f22a7ed0-7a6b-43fe-ba4f-122f78387bac",
   "metadata": {},
   "outputs": [
    {
     "name": "stdout",
     "output_type": "stream",
     "text": [
      "['Kaabir', 'Saad Irfan', 'Raza', 'Hassan', 'Bilal', 'Osama']\n"
     ]
    }
   ],
   "source": [
    "print (Guestlist)"
   ]
  },
  {
   "cell_type": "code",
   "execution_count": 99,
   "id": "efb6f7f4-f640-4e7e-ab6b-933bb7c832f1",
   "metadata": {},
   "outputs": [
    {
     "name": "stdout",
     "output_type": "stream",
     "text": [
      "New Invitations:\n",
      "\n",
      "Invitation to Kaabir:\n",
      "\n",
      "Dear Kaabir, I am writing you to come over to my house for dinner .Sincerely,\n",
      " [Abdulmoiz]\n",
      "\n",
      "Invitation to Saad Irfan:\n",
      "\n",
      "Dear Saad, I am writing you to come to my house for dinner.Sincerely,[Abdulmoiz]\n",
      "\n",
      "Invitation to Raza:\n",
      "\n",
      "Dear Raza, I am writing you to come over to my house for dinner. Sincerely,\n",
      " [Abdulmoiz]\n",
      "\n",
      "Invitation to Hassan:\n",
      "\n",
      "Dear Hassan, I am writing you to come over to my house for dinner.Sincerely,\n",
      "[Abdulmoiz]\n",
      "\n",
      "Invitation to Bilal:\n",
      "\n",
      "Dear Bilal, I am writing you to come over to my house for dinner.Sincerely,\n",
      "[Abdulmoiz]\n",
      "\n",
      "Invitation to Osama:\n",
      "\n",
      "Dear Osama, I am writing you to come over to my house for dinner. Sincerely,\n",
      " [Abdulmoiz]\n"
     ]
    }
   ],
   "source": [
    "print(\"New Invitations:\")\n",
    "for person in Guestlist:\n",
    "    print(f\"\\nInvitation to {person}:\\n\")\n",
    "    print(messages[person])"
   ]
  },
  {
   "cell_type": "code",
   "execution_count": null,
   "id": "d717d778-5c92-49d7-8723-a594cd6f172c",
   "metadata": {},
   "outputs": [],
   "source": []
  },
  {
   "cell_type": "code",
   "execution_count": 100,
   "id": "27273507-b62b-4ae5-ab43-38062dd9e49e",
   "metadata": {},
   "outputs": [
    {
     "name": "stdout",
     "output_type": "stream",
     "text": [
      "Unfortunately, the new dinner table won't arrive in time, and we can invite only two people for dinner.\n",
      "\n",
      "Dear Osama,\n",
      "\n",
      "I'm sorry to inform you that due to unforeseen circumstances, I can no longer invite you to dinner. I hope we can meet another time.\n",
      "\n",
      "Best regards,\n",
      "[Your Name]\n",
      "\n",
      "Dear Bilal,\n",
      "\n",
      "I'm sorry to inform you that due to unforeseen circumstances, I can no longer invite you to dinner. I hope we can meet another time.\n",
      "\n",
      "Best regards,\n",
      "[Your Name]\n",
      "\n",
      "Dear Hassan,\n",
      "\n",
      "I'm sorry to inform you that due to unforeseen circumstances, I can no longer invite you to dinner. I hope we can meet another time.\n",
      "\n",
      "Best regards,\n",
      "[Your Name]\n",
      "\n",
      "Dear Raza,\n",
      "\n",
      "I'm sorry to inform you that due to unforeseen circumstances, I can no longer invite you to dinner. I hope we can meet another time.\n",
      "\n",
      "Best regards,\n",
      "[Your Name]\n",
      "\n",
      "Still Invited:\n",
      "\n",
      "Dear Kaabir,\n",
      "\n",
      "I'm pleased to let you know that you're still invited to dinner. I look forward to seeing you!\n",
      "\n",
      "Sincerely,\n",
      "[Your Name]\n",
      "\n",
      "\n",
      "Dear Saad Irfan,\n",
      "\n",
      "I'm pleased to let you know that you're still invited to dinner. I look forward to seeing you!\n",
      "\n",
      "Sincerely,\n",
      "[Your Name]\n",
      "\n",
      "Final guest list: []\n"
     ]
    }
   ],
   "source": [
    "# Inform that only two guests can be invited\n",
    "print(\"Unfortunately, the new dinner table won't arrive in time, and we can invite only two people for dinner.\\n\")\n",
    "\n",
    "# Use pop() to remove guests until only two remain\n",
    "while len(Guestlist) > 2:\n",
    "    removed_guest = Guestlist.pop()\n",
    "    print(f\"Dear {removed_guest},\\n\\nI'm sorry to inform you that due to unforeseen circumstances, I can no longer invite you to dinner. I hope we can meet another time.\\n\\nBest regards,\\n[Your Name]\\n\")\n",
    "\n",
    "# Print a message to the two people still invited\n",
    "print(\"Still Invited:\")\n",
    "for person in Guestlist:\n",
    "    print(f\"\\nDear {person},\\n\\nI'm pleased to let you know that you're still invited to dinner. I look forward to seeing you!\\n\\nSincerely,\\n[Your Name]\\n\")\n",
    "\n",
    "# Use del to remove the last two names from the list\n",
    "del Guestlist[:]\n",
    "\n",
    "# Print the final list to ensure it is empty\n",
    "print(\"Final guest list:\", Guestlist)"
   ]
  },
  {
   "cell_type": "code",
   "execution_count": null,
   "id": "94beb6f5-1878-470e-9cf9-03dd801ca5c0",
   "metadata": {},
   "outputs": [],
   "source": []
  },
  {
   "cell_type": "code",
   "execution_count": 101,
   "id": "903b3d51-7957-4991-afd7-ec1aaeb7fbe6",
   "metadata": {},
   "outputs": [
    {
     "name": "stdout",
     "output_type": "stream",
     "text": [
      "First historical figure: Socrates\n",
      "Last historical figure: Nelson Mandela\n",
      "Third historical figure: Genghis Khan\n",
      "Second to last historical figure: Martin Luther King Jr.\n",
      "\n",
      "First three historical figures: ['Socrates', 'Cleopatra', 'Genghis Khan']\n",
      "Middle historical figures: ['William Shakespeare', 'Galileo Galilei', 'Marie Curie', 'Albert Einstein']\n",
      "Last three historical figures: ['Mahatma Gandhi', 'Martin Luther King Jr.', 'Nelson Mandela']\n",
      "Every second historical figure: ['Socrates', 'Genghis Khan', 'Galileo Galilei', 'Albert Einstein', 'Martin Luther King Jr.']\n",
      "\n",
      "Reversed list of historical figures: ['Nelson Mandela', 'Martin Luther King Jr.', 'Mahatma Gandhi', 'Albert Einstein', 'Marie Curie', 'Galileo Galilei', 'William Shakespeare', 'Genghis Khan', 'Cleopatra', 'Socrates']\n",
      "\n",
      "Modified subset of historical figures: ['Isaac Newton', 'Marie Curie', 'Albert Einstein', 'Mahatma Gandhi']\n",
      "Original list after subset modification (remains unchanged): ['Socrates', 'Cleopatra', 'Genghis Khan', 'William Shakespeare', 'Galileo Galilei', 'Marie Curie', 'Albert Einstein', 'Mahatma Gandhi', 'Martin Luther King Jr.', 'Nelson Mandela']\n"
     ]
    }
   ],
   "source": [
    "# Define a list of famous historical figures\n",
    "historical_figures = [\"Socrates\", \"Cleopatra\", \"Genghis Khan\", \"William Shakespeare\", \"Galileo Galilei\", \"Marie Curie\", \"Albert Einstein\", \"Mahatma Gandhi\", \"Martin Luther King Jr.\", \"Nelson Mandela\"]\n",
    "\n",
    "# Perform indexing operations\n",
    "first_figure = historical_figures[0]\n",
    "last_figure = historical_figures[-1]\n",
    "third_figure = historical_figures[2]\n",
    "second_last_figure = historical_figures[-2]\n",
    "\n",
    "print(f\"First historical figure: {first_figure}\")\n",
    "print(f\"Last historical figure: {last_figure}\")\n",
    "print(f\"Third historical figure: {third_figure}\")\n",
    "print(f\"Second to last historical figure: {second_last_figure}\")\n",
    "\n",
    "# Perform slicing operations\n",
    "first_three_figures = historical_figures[:3]\n",
    "middle_figures = historical_figures[3:7]\n",
    "last_three_figures = historical_figures[-3:]\n",
    "every_second_figure = historical_figures[::2]\n",
    "\n",
    "print(\"\\nFirst three historical figures:\", first_three_figures)\n",
    "print(\"Middle historical figures:\", middle_figures)\n",
    "print(\"Last three historical figures:\", last_three_figures)\n",
    "print(\"Every second historical figure:\", every_second_figure)\n",
    "\n",
    "# Reversing the list using slicing\n",
    "reversed_figures = historical_figures[::-1]\n",
    "print(\"\\nReversed list of historical figures:\", reversed_figures)\n",
    "\n",
    "# Slicing a subset and modifying it\n",
    "subset_figures = historical_figures[4:8]\n",
    "subset_figures[0] = \"Isaac Newton\"\n",
    "print(\"\\nModified subset of historical figures:\", subset_figures)\n",
    "print(\"Original list after subset modification (remains unchanged):\", historical_figures)"
   ]
  },
  {
   "cell_type": "code",
   "execution_count": null,
   "id": "377c39d9-a1ef-4f9b-93ce-81bf0c1e24b0",
   "metadata": {},
   "outputs": [],
   "source": []
  }
 ],
 "metadata": {
  "kernelspec": {
   "display_name": "Python 3 (ipykernel)",
   "language": "python",
   "name": "python3"
  },
  "language_info": {
   "codemirror_mode": {
    "name": "ipython",
    "version": 3
   },
   "file_extension": ".py",
   "mimetype": "text/x-python",
   "name": "python",
   "nbconvert_exporter": "python",
   "pygments_lexer": "ipython3",
   "version": "3.12.4"
  }
 },
 "nbformat": 4,
 "nbformat_minor": 5
}
